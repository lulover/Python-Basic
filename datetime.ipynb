{
  "nbformat": 4,
  "nbformat_minor": 0,
  "metadata": {
    "colab": {
      "name": "datetime.ipynb",
      "provenance": [],
      "include_colab_link": true
    },
    "kernelspec": {
      "name": "python3",
      "display_name": "Python 3"
    }
  },
  "cells": [
    {
      "cell_type": "markdown",
      "metadata": {
        "id": "view-in-github",
        "colab_type": "text"
      },
      "source": [
        "<a href=\"https://colab.research.google.com/github/mizykk/Python-Basic/blob/master/datetime.ipynb\" target=\"_parent\"><img src=\"https://colab.research.google.com/assets/colab-badge.svg\" alt=\"Open In Colab\"/></a>"
      ]
    },
    {
      "cell_type": "markdown",
      "metadata": {
        "id": "QZlTuDmaK-Ba",
        "colab_type": "text"
      },
      "source": [
        "# [Datetime](https://docs.python.org/3/library/datetime.html#strftime-and-strptime-format-codes)\n",
        "  \n"
      ]
    },
    {
      "cell_type": "code",
      "metadata": {
        "id": "IECXR0seK60a",
        "colab_type": "code",
        "colab": {}
      },
      "source": [
        "import datetime"
      ],
      "execution_count": 0,
      "outputs": []
    },
    {
      "cell_type": "markdown",
      "metadata": {
        "id": "_9-1jB65LaRY",
        "colab_type": "text"
      },
      "source": [
        "**datetime.datetime.now()**  \n",
        "현재시각  "
      ]
    },
    {
      "cell_type": "code",
      "metadata": {
        "id": "1IiuXRceLVX3",
        "colab_type": "code",
        "outputId": "099a95ee-861a-4304-f36b-249fd5483636",
        "colab": {
          "base_uri": "https://localhost:8080/",
          "height": 35
        }
      },
      "source": [
        "now_time = datetime.datetime.now()\n",
        "now_time"
      ],
      "execution_count": 0,
      "outputs": [
        {
          "output_type": "execute_result",
          "data": {
            "text/plain": [
              "datetime.datetime(2019, 11, 11, 3, 31, 42, 393075)"
            ]
          },
          "metadata": {
            "tags": []
          },
          "execution_count": 12
        }
      ]
    },
    {
      "cell_type": "markdown",
      "metadata": {
        "id": "60b3MJEpMcUJ",
        "colab_type": "text"
      },
      "source": [
        "datetime.datetime(year, month, day, hour, minute, second, microsecond)  "
      ]
    },
    {
      "cell_type": "code",
      "metadata": {
        "id": "-5q9gJNVLqI-",
        "colab_type": "code",
        "outputId": "d1c2bd9b-0e55-43de-f552-f0f99e34a724",
        "colab": {
          "base_uri": "https://localhost:8080/",
          "height": 143
        }
      },
      "source": [
        "print(\"year : {}\".format(now_time.year))\n",
        "print(\"month : {}\".format(now_time.month))\n",
        "print(\"day : {}\".format(now_time.day))\n",
        "print(\"hour : {}\".format(now_time.hour))\n",
        "print(\"minute : {}\".format(now_time.minute))\n",
        "print(\"second : {}\".format(now_time.second))\n",
        "print(\"microsecond : {}\".format(now_time.microsecond))"
      ],
      "execution_count": 0,
      "outputs": [
        {
          "output_type": "stream",
          "text": [
            "year : 2019\n",
            "month : 11\n",
            "day : 11\n",
            "hour : 3\n",
            "minute : 31\n",
            "second : 42\n",
            "microsecond : 393075\n"
          ],
          "name": "stdout"
        }
      ]
    },
    {
      "cell_type": "markdown",
      "metadata": {
        "id": "M-brev3sMmLL",
        "colab_type": "text"
      },
      "source": [
        "**datetime.weekday()**  \n",
        "요일을 숫자로 반환  \n",
        "0 : 월 / 1 : 화 / 2 : 수 / 3 : 목 / 4 : 금 / 5 : 토 / 6 : 일"
      ]
    },
    {
      "cell_type": "code",
      "metadata": {
        "id": "9r3edZBnMXLc",
        "colab_type": "code",
        "outputId": "71006ade-5434-4cdb-a2e4-2859025e90d3",
        "colab": {
          "base_uri": "https://localhost:8080/",
          "height": 35
        }
      },
      "source": [
        "now_time.weekday()"
      ],
      "execution_count": 0,
      "outputs": [
        {
          "output_type": "execute_result",
          "data": {
            "text/plain": [
              "0"
            ]
          },
          "metadata": {
            "tags": []
          },
          "execution_count": 14
        }
      ]
    },
    {
      "cell_type": "markdown",
      "metadata": {
        "id": "DPe2oAe0hI5h",
        "colab_type": "text"
      },
      "source": [
        "**datetime.date()**  \n",
        "날짜만 출력"
      ]
    },
    {
      "cell_type": "code",
      "metadata": {
        "id": "Vwd1lIALhCth",
        "colab_type": "code",
        "outputId": "5614f5c5-0edc-4bd8-dece-54abc5b86da7",
        "colab": {
          "base_uri": "https://localhost:8080/",
          "height": 35
        }
      },
      "source": [
        "now_time.date()"
      ],
      "execution_count": 0,
      "outputs": [
        {
          "output_type": "execute_result",
          "data": {
            "text/plain": [
              "datetime.date(2019, 11, 11)"
            ]
          },
          "metadata": {
            "tags": []
          },
          "execution_count": 15
        }
      ]
    },
    {
      "cell_type": "markdown",
      "metadata": {
        "id": "P5n_cnNPhV3_",
        "colab_type": "text"
      },
      "source": [
        "**datetime.time()**  \n",
        "시간만 출력  "
      ]
    },
    {
      "cell_type": "code",
      "metadata": {
        "id": "vxi7pXa5hab4",
        "colab_type": "code",
        "outputId": "99b0ec6e-6c65-4058-faf9-1181fdfc08c1",
        "colab": {
          "base_uri": "https://localhost:8080/",
          "height": 35
        }
      },
      "source": [
        "now_time.time()"
      ],
      "execution_count": 0,
      "outputs": [
        {
          "output_type": "execute_result",
          "data": {
            "text/plain": [
              "datetime.time(3, 31, 42, 393075)"
            ]
          },
          "metadata": {
            "tags": []
          },
          "execution_count": 17
        }
      ]
    },
    {
      "cell_type": "markdown",
      "metadata": {
        "id": "FvPnMzHQjDrz",
        "colab_type": "text"
      },
      "source": [
        "**datetime.datetime.combine(d, t)**  \n",
        "date와 time합치기  "
      ]
    },
    {
      "cell_type": "code",
      "metadata": {
        "id": "AbUNi4_7jBm2",
        "colab_type": "code",
        "colab": {
          "base_uri": "https://localhost:8080/",
          "height": 35
        },
        "outputId": "4c7e93a8-c41d-4423-d5c6-5ba6a802c155"
      },
      "source": [
        "d = datetime.date(2017, 8, 31)\n",
        "t = datetime.time(18, 30, 0)\n",
        "\n",
        "datetime.datetime.combine(d, t)"
      ],
      "execution_count": 29,
      "outputs": [
        {
          "output_type": "execute_result",
          "data": {
            "text/plain": [
              "datetime.datetime(2017, 8, 31, 18, 30)"
            ]
          },
          "metadata": {
            "tags": []
          },
          "execution_count": 29
        }
      ]
    },
    {
      "cell_type": "markdown",
      "metadata": {
        "id": "WsNicskrNZ5X",
        "colab_type": "text"
      },
      "source": [
        "**datetime.strftime()**  \n",
        "datetime을 문자열로  "
      ]
    },
    {
      "cell_type": "code",
      "metadata": {
        "id": "L1bRAn1zM6Qi",
        "colab_type": "code",
        "outputId": "132694c2-f2aa-4f46-c25b-2fe4af6494c3",
        "colab": {
          "base_uri": "https://localhost:8080/",
          "height": 35
        }
      },
      "source": [
        "now_time.strftime('%y%m%d')"
      ],
      "execution_count": 30,
      "outputs": [
        {
          "output_type": "execute_result",
          "data": {
            "text/plain": [
              "'191111'"
            ]
          },
          "metadata": {
            "tags": []
          },
          "execution_count": 30
        }
      ]
    },
    {
      "cell_type": "markdown",
      "metadata": {
        "id": "7h2k9he7NiWa",
        "colab_type": "text"
      },
      "source": [
        "**datetime.strptime(date_string, format)**  \n",
        "문자열을 datetime으로"
      ]
    },
    {
      "cell_type": "code",
      "metadata": {
        "id": "jONsDWBmdZ-5",
        "colab_type": "code",
        "outputId": "cca12825-2558-4cfb-bdb1-fef28954c3b7",
        "colab": {
          "base_uri": "https://localhost:8080/",
          "height": 35
        }
      },
      "source": [
        "datetime.datetime.strptime(\"17/08/31\", \"%y/%m/%d\")"
      ],
      "execution_count": 0,
      "outputs": [
        {
          "output_type": "execute_result",
          "data": {
            "text/plain": [
              "datetime.datetime(2017, 8, 31, 0, 0)"
            ]
          },
          "metadata": {
            "tags": []
          },
          "execution_count": 20
        }
      ]
    },
    {
      "cell_type": "markdown",
      "metadata": {
        "id": "--oxovY4wyF5",
        "colab_type": "text"
      },
      "source": [
        "### [Format](https://docs.python.org/3/library/datetime.html#strftime-and-strptime-format-codes)  \n",
        "  \n",
        "|Directive|meaning|Example|\n",
        "|:---:|:---:|:---:|  \n",
        "|%a|간략하게 문자로 요일표시|Sun, Mon, Tue, ...Sat|  \n",
        "|%A|문자로 요일표시|Sunday, Monday,...Saturday|\n",
        "|%w|숫자로 요일표시|sun = 0 ~ sat = 6\t0, 1, 2, ... 6|\n",
        "|%d|일 day|01, 02, ..., 30, 31|\n",
        "|%b|간략하게 문자로 월표시(month)|Jan, Feb, ..., Dec|\n",
        "|%B|문자로 월표시(month)|January, February,...,December|\n",
        "|%m|숫자로 월표시(month)|01, 02, ..., 12|\n",
        "|%y|두자리 숫자로 연도표시(year)|00, 01, …, 99|\n",
        "|%Y|네자리 숫자로 연도표시(year)|0001, 0002, …, 2013, 2014, …, 9998, 9999|\n",
        "|%H|24시간제 hour|00, 01, 02, ..., 23|\n",
        "|%l|12시간제 hour|00, 01, 02, ..., 12|\n",
        "|%p|AM / PM|AM, PM|\n",
        "|%M|분 Minute|00, 01, 02, ..., 59|\n",
        "|%s|초 second|00, 01, 02, ..., 59|\n",
        "|%f|microsecond|000000, 000001, …, 999999|\n",
        "|%z|UTC설정 ±HHMM[SS[.ffffff]]|+0000, -0400, +1030, +063415, -030712.345216|\n",
        "|%j|일년 중 몇번째 일(day)인지|001, 002, …, 366|\n",
        "|%U|일년 중 몇번째 주인지(일요일 시작)|00, 01, …, 53|\n",
        "|%W|일년 중 몇번째 주인지(월요일 시작)|00, 01, …, 53|"
      ]
    }
  ]
}