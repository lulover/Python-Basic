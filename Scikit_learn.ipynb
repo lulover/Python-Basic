{
  "nbformat": 4,
  "nbformat_minor": 0,
  "metadata": {
    "colab": {
      "name": "Scikit-learn.ipynb",
      "provenance": [],
      "collapsed_sections": [
        "XoTsk_A6x08q"
      ],
      "toc_visible": true,
      "include_colab_link": true
    },
    "kernelspec": {
      "name": "python3",
      "display_name": "Python 3"
    }
  },
  "cells": [
    {
      "cell_type": "markdown",
      "metadata": {
        "id": "view-in-github",
        "colab_type": "text"
      },
      "source": [
        "<a href=\"https://colab.research.google.com/github/mizykk/Python-Basic/blob/master/Scikit_learn.ipynb\" target=\"_parent\"><img src=\"https://colab.research.google.com/assets/colab-badge.svg\" alt=\"Open In Colab\"/></a>"
      ]
    },
    {
      "cell_type": "markdown",
      "metadata": {
        "id": "NmeKaKn7a_Af",
        "colab_type": "text"
      },
      "source": [
        "# Scikit-learn"
      ]
    },
    {
      "cell_type": "code",
      "metadata": {
        "id": "VLxPbQ8Za6bI",
        "colab_type": "code",
        "colab": {}
      },
      "source": [
        "import sklearn as sk"
      ],
      "execution_count": 0,
      "outputs": []
    },
    {
      "cell_type": "markdown",
      "metadata": {
        "id": "CxorHTfHvEq9",
        "colab_type": "text"
      },
      "source": [
        "### Iris Data"
      ]
    },
    {
      "cell_type": "code",
      "metadata": {
        "id": "120oxvVbu_J5",
        "colab_type": "code",
        "colab": {}
      },
      "source": [
        "from sklearn import datasets\n",
        "iris = datasets.load_iris()\n",
        "x_iris, y_iris = iris.data, iris.target"
      ],
      "execution_count": 0,
      "outputs": []
    },
    {
      "cell_type": "markdown",
      "metadata": {
        "id": "XoTsk_A6x08q",
        "colab_type": "text"
      },
      "source": [
        "### Encoding  "
      ]
    },
    {
      "cell_type": "markdown",
      "metadata": {
        "id": "F3fgaZBLyGdb",
        "colab_type": "text"
      },
      "source": [
        " #### CategoricalEncoder  \n",
        "문자로 된 범주형 값을 원-핫 벡터로 바꿔준다.  "
      ]
    },
    {
      "cell_type": "code",
      "metadata": {
        "id": "hyfn6qsvx5GL",
        "colab_type": "code",
        "colab": {}
      },
      "source": [
        "from sklearn.preprocessing import CategoricalEncoder\n",
        "\n",
        "df_encoder = CategoricalEncoder()\n",
        "df_reshaped = df['c'].values.reshape(-1,1)\n",
        "df_hot = df_encoder.fit_transform(df_reshaped)"
      ],
      "execution_count": 0,
      "outputs": []
    },
    {
      "cell_type": "markdown",
      "metadata": {
        "id": "AhM333bZskoQ",
        "colab_type": "text"
      },
      "source": [
        "#### LabelEncoder"
      ]
    },
    {
      "cell_type": "code",
      "metadata": {
        "id": "OBM-iO22snXp",
        "colab_type": "code",
        "colab": {}
      },
      "source": [
        "from sklearn.preprocessing import LabelEncoder\n",
        "\n",
        "le = LabelEncoder()\n",
        "le = le.fit(data['city'])\n",
        "data['city_id'] = le.transform(data['city'])\n",
        "test['city_id'] = le.transform(test['city'])"
      ],
      "execution_count": 0,
      "outputs": []
    },
    {
      "cell_type": "markdown",
      "metadata": {
        "id": "xfZPBRAPzwOH",
        "colab_type": "text"
      },
      "source": [
        "## Model Evaluation\n",
        "### Train/Test 분류 & Cross Validation 교차검증\n",
        "참고 : https://datascienceschool.net/view-notebook/266d699d748847b3a3aa7b9805b846ae/   \n",
        "- Sckikit learn에서 데이터는 X(2차원 배열, 행렬)로 레이블은 y(1차원 배열, 벡터)로 표현한다.   \n"
      ]
    },
    {
      "cell_type": "code",
      "metadata": {
        "id": "1aW2-NZO4-e9",
        "colab_type": "code",
        "colab": {}
      },
      "source": [
        "from sklearn.model_selection import train_test_split\n",
        "X_train, X_test, y_train, y_test = train_test_split(X, y, test_size = 0.25, random_state = 3)"
      ],
      "execution_count": 0,
      "outputs": []
    },
    {
      "cell_type": "markdown",
      "metadata": {
        "id": "NPJkgu_Kxku3",
        "colab_type": "text"
      },
      "source": [
        "### K-fold 교차검증  \n",
        "K-폴드 교차검증에서는 학습과 검증을 반복한다.  \n",
        "\n",
        "전체 데이터를 K개의 부분 집합( {D1,D2,⋯,DK} )으로 나눈다.  \n",
        "데이터  {D1,D2,⋯,DK−1} 를 학습용 데이터로 사용하여 회귀분석 모형을 만들고 데이터  {DK} 로 교차검증을 한다.  \n",
        "데이터  {D1,D2,⋯,DK−2,DK} 를 학습용 데이터로 사용하여 회귀분석 모형을 만들고 데이터  {DK−1} 로 교차검증을 한다.  \n",
        "⋮   \n",
        "데이터  {D2,⋯,DK} 를 학습용 데이터로 사용하여 회귀분석 모형을 만들고 데이터  {D1} 로 교차검증을 한다.  \n",
        "이렇게 하면 총 K개의 모형과 K개의 교차검증 성능이 나온다. 이 K개의 교차검증 성능을 평균하여 최종 교차검증 성능을 계산한다.  \n",
        "\n"
      ]
    },
    {
      "cell_type": "code",
      "metadata": {
        "id": "rw79blxBw5w_",
        "colab_type": "code",
        "colab": {}
      },
      "source": [
        "from sklearn.model_selection import cross_val_score\n",
        "\n",
        "scores = cross_val_score(model, X_data, y_data, cv = 3)\n",
        "np.mean(scores)"
      ],
      "execution_count": 0,
      "outputs": []
    },
    {
      "cell_type": "markdown",
      "metadata": {
        "id": "zE3dD7L-2tVh",
        "colab_type": "text"
      },
      "source": [
        "### 결과평가  \n",
        "1) Train data  "
      ]
    },
    {
      "cell_type": "code",
      "metadata": {
        "id": "28qKCRUs20IS",
        "colab_type": "code",
        "colab": {}
      },
      "source": [
        "from sklearn import metrics\n",
        "y_train_pred = clf.predict(x_train)\n",
        "print(metric.accuracy_score(y_train, y_train_pred))"
      ],
      "execution_count": 0,
      "outputs": []
    },
    {
      "cell_type": "markdown",
      "metadata": {
        "id": "q68DnaXf3a1t",
        "colab_type": "text"
      },
      "source": [
        "2) Test data  "
      ]
    },
    {
      "cell_type": "code",
      "metadata": {
        "id": "XRDMEJmd3cnt",
        "colab_type": "code",
        "colab": {}
      },
      "source": [
        "y_pred = clf.predict(x_test)\n",
        "print(metrics.accuracy_score(y_test, y_pred))"
      ],
      "execution_count": 0,
      "outputs": []
    },
    {
      "cell_type": "markdown",
      "metadata": {
        "id": "S9KArlqk4Tqz",
        "colab_type": "text"
      },
      "source": [
        "3)"
      ]
    },
    {
      "cell_type": "code",
      "metadata": {
        "id": "f06oK1F04U3o",
        "colab_type": "code",
        "colab": {}
      },
      "source": [
        "print(metrics.classification_report(y_test, y_pred, target_name = iris.target_names))"
      ],
      "execution_count": 0,
      "outputs": []
    },
    {
      "cell_type": "markdown",
      "metadata": {
        "id": "d3L6iLwE57BM",
        "colab_type": "text"
      },
      "source": [
        "## Standardization 표준화"
      ]
    },
    {
      "cell_type": "code",
      "metadata": {
        "id": "VFksqGbm6HtR",
        "colab_type": "code",
        "colab": {}
      },
      "source": [
        "from sklearn import preprocessing"
      ],
      "execution_count": 0,
      "outputs": []
    },
    {
      "cell_type": "code",
      "metadata": {
        "id": "3YK3TWAr6dIy",
        "colab_type": "code",
        "colab": {}
      },
      "source": [
        "scaler = preprocessing.StandardScaler().fit(X_train)   #학습용 데이터의 분포 측정\n",
        "x_train = scaler.transform(x_train)   #학습용 데이터 변환\n",
        "x_test =  scaler.transform(x_test)   #검증용 데이터 변환"
      ],
      "execution_count": 0,
      "outputs": []
    },
    {
      "cell_type": "code",
      "metadata": {
        "id": "Bv9MsfDNywU2",
        "colab_type": "code",
        "colab": {}
      },
      "source": [
        "from sklearn.preprocessing import StandardScaler()\n",
        "scalerx = StandardScaler().fit(x_train)\n",
        "scalery = StandardScaler().fit(y_train)\n",
        "\n",
        "x_train = scalerx.transform(x_train)\n",
        "y_train = scalery.transform(y_train)\n",
        "\n",
        "x_test = scalerx.transform(x_test)\n",
        "y_test = scalery.transform(y_test)"
      ],
      "execution_count": 0,
      "outputs": []
    },
    {
      "cell_type": "markdown",
      "metadata": {
        "id": "JrEGN4jMwObb",
        "colab_type": "text"
      },
      "source": [
        "1) 학습용 데이터의 분포 측정 : 학습용 데이터를 입력으로 하여 ```fit``` 메서드를 실행하면 분포 모수를 객체내에 저장  \n",
        "2) 학습용 데이터 변환 : 학습용 데이터를 입력으로 하여 ```transform``` 메서드를 실행하면 학습용 데이터를 변환  \n",
        "3) 검증용 데이터 변환 : 검증용 데이터를 입력으로 하여 ```transform```메서드를 실행하면 검증용 데이터를 변환   \n",
        "  \n",
        "  \n",
        "- - -   \n",
        "  \n",
        "  \n",
        "## Machine Learning  \n",
        "지도학습 : 예측값(y)이 존재     \n",
        "    \n",
        "    \n",
        "1. 회귀 : 예측대상이 연속적  \n",
        "  \n"
      ]
    },
    {
      "cell_type": "markdown",
      "metadata": {
        "id": "WlolvxDNrrxa",
        "colab_type": "text"
      },
      "source": [
        "### Linear Regression"
      ]
    },
    {
      "cell_type": "code",
      "metadata": {
        "id": "iVkr0mo9rp_q",
        "colab_type": "code",
        "colab": {}
      },
      "source": [
        "from sklearn.linear_model import LinearRegression\n",
        "\n",
        "X = df[['x']]\n",
        "Y = df['y']\n",
        "lm = LinearRegression()\n",
        "lm.intercept_   #절편, 편향\n",
        "lm.coef_   #가중치\n",
        "lm.fit(X,Y)\n",
        "lm.score(X, Y)"
      ],
      "execution_count": 0,
      "outputs": []
    },
    {
      "cell_type": "markdown",
      "metadata": {
        "id": "pe_Vo78jxSNs",
        "colab_type": "text"
      },
      "source": [
        "#### Polynomial Regression"
      ]
    },
    {
      "cell_type": "code",
      "metadata": {
        "id": "EbOmBEoNxS1U",
        "colab_type": "code",
        "colab": {}
      },
      "source": [
        "from sklearn.preprocessing import PolynomialFeatures\n",
        "\n",
        "poly_features = PolynomialFeatures(degree = 2, include_bias = False)\n",
        "X_poly = poly_features.fit_transform(X)"
      ],
      "execution_count": 0,
      "outputs": []
    },
    {
      "cell_type": "markdown",
      "metadata": {
        "id": "Add1u0vNr4Tj",
        "colab_type": "text"
      },
      "source": [
        "#### Ridge Regression  \n",
        "- 릿지회귀는 규제가 추가된 선형 회귀이다.  \n",
        "- 릿지의 가중치는 0에 가까워지지만 0이 되지는 않는다.  \n",
        "- 스케일에 민감하기 때문에 수행하기 전에 데이터의 스케일을 맞추는 것이 중요하다.\n",
        "- 특성이 많은데 그 중 일부분만 중요하면 Lasso를, 전체가 중요하면 Ridge회귀를 이용한다.  \n"
      ]
    },
    {
      "cell_type": "code",
      "metadata": {
        "id": "zAGDHLblr7kP",
        "colab_type": "code",
        "colab": {}
      },
      "source": [
        "from sklearn.linear_model import Ridge\n",
        "\n",
        "rr = Ridge(alpha = 1)\n",
        "rr.fit(X, Y)\n",
        "rr.predict(X, Y)\n",
        "rr.score(X, Y)"
      ],
      "execution_count": 0,
      "outputs": []
    },
    {
      "cell_type": "markdown",
      "metadata": {
        "id": "2p6fGy0uxbEF",
        "colab_type": "text"
      },
      "source": [
        "#### Lasso Regression\n",
        "- 덜 중요한 특성의 가중치를 완전하게 제거  \n",
        "- 자동으로 특성을 선택  "
      ]
    },
    {
      "cell_type": "code",
      "metadata": {
        "id": "JkfR461bxjX9",
        "colab_type": "code",
        "colab": {}
      },
      "source": [
        "from sklearn.linear_model import Lasso\n",
        "\n",
        "lasso_reg = Lasso(alpha = 0.1)\n",
        "lasso_reg.fit(X, Y)\n",
        "lasso_reg.score(X, Y)"
      ],
      "execution_count": 0,
      "outputs": []
    },
    {
      "cell_type": "markdown",
      "metadata": {
        "id": "JvcHEWxdxoV0",
        "colab_type": "text"
      },
      "source": [
        "#### Elastic Net  \n",
        "- Ridge + Lasso \n",
        "- 규제항은 릿지와 회귀의 규제항을 단순히 더해서 사용하며, 혼합 정도는 혼합 비율 r을 사용해 조절한다. r = 0이면 Ridge와 같고 r = 1이면 Lasso와 같다.  \n"
      ]
    },
    {
      "cell_type": "code",
      "metadata": {
        "id": "7jmAds-XxpCI",
        "colab_type": "code",
        "colab": {}
      },
      "source": [
        "from sklearn.linear_model import ElasticNet\n",
        "elastic_net = ElasticNet(alpha = 0.1, l1_ratio = 0.5)\n",
        "elastic_net.fit(X, Y)\n",
        "elastic_net.score(X, Y)"
      ],
      "execution_count": 0,
      "outputs": []
    },
    {
      "cell_type": "markdown",
      "metadata": {
        "id": "SNKHtAAVfv5M",
        "colab_type": "text"
      },
      "source": [
        "### K-Nearest Neighbors, K-NN"
      ]
    },
    {
      "cell_type": "code",
      "metadata": {
        "id": "hHwd6Bzsfy_4",
        "colab_type": "code",
        "colab": {}
      },
      "source": [
        "from sklearn.neighbors import KNeighborsClassifier\n",
        "\n",
        "knn = KNeighborsClassifier(n_neigbors = 1)\n",
        "knn.fit(X_train, y_train)\n",
        "knn.predict(X_test)\n",
        "knn.score(X_test, y_test)"
      ],
      "execution_count": 0,
      "outputs": []
    },
    {
      "cell_type": "code",
      "metadata": {
        "id": "DNf-56kPp13_",
        "colab_type": "code",
        "colab": {}
      },
      "source": [
        "from sklearn.model_selection import train_test_split\n",
        "X_trian, X_test, y_train, y_test = train_test_split(X, y, test_size = 0.3, random_state = 3)\n",
        "\n",
        "from sklearn.neighbors import KNeighborsClassifier\n",
        "knn = KNeighborsClassifier(n_neighbors = 1)\n",
        "knn.fit(X_train, y_train)\n",
        "print(\"Test set 정확도 : {:.2f}\".format(knn.score(X_test, y_test)))"
      ],
      "execution_count": 0,
      "outputs": []
    }
  ]
}