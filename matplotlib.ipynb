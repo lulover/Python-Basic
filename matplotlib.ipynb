{
  "nbformat": 4,
  "nbformat_minor": 0,
  "metadata": {
    "colab": {
      "name": "matplotlib.ipynb",
      "provenance": [],
      "collapsed_sections": [],
      "toc_visible": true,
      "include_colab_link": true
    },
    "kernelspec": {
      "name": "python3",
      "display_name": "Python 3"
    }
  },
  "cells": [
    {
      "cell_type": "markdown",
      "metadata": {
        "id": "view-in-github",
        "colab_type": "text"
      },
      "source": [
        "<a href=\"https://colab.research.google.com/github/mizykk/Python-Basic/blob/master/matplotlib.ipynb\" target=\"_parent\"><img src=\"https://colab.research.google.com/assets/colab-badge.svg\" alt=\"Open In Colab\"/></a>"
      ]
    },
    {
      "cell_type": "markdown",
      "metadata": {
        "id": "m9pczzETfa8c",
        "colab_type": "text"
      },
      "source": [
        "# Matplotlib  \n",
        "visualization   \n",
        "https://matplotlib.org/index.html \n",
        "  \n",
        "### Import library"
      ]
    },
    {
      "cell_type": "code",
      "metadata": {
        "id": "ugYg9wITfTyp",
        "colab_type": "code",
        "colab": {}
      },
      "source": [
        "import matplotlib.pyplot as plt\n",
        "%matplotlib inline"
      ],
      "execution_count": 0,
      "outputs": []
    },
    {
      "cell_type": "markdown",
      "metadata": {
        "id": "WRI-ixiOycY1",
        "colab_type": "text"
      },
      "source": [
        "### [plt.plot()](https://matplotlib.org/api/_as_gen/matplotlib.pyplot.plot.html?highlight=pyplot%20plot#matplotlib.pyplot.plot)"
      ]
    },
    {
      "cell_type": "markdown",
      "metadata": {
        "id": "fdru8Qtzf74N",
        "colab_type": "text"
      },
      "source": [
        "**plot.title('제목')** : 그래프에 제목 달기  \n",
        "**plt.plot([x축 데이터], [y축 데이터])** : 선그래프"
      ]
    },
    {
      "cell_type": "code",
      "metadata": {
        "id": "2fG-DYXXf9Sx",
        "colab_type": "code",
        "outputId": "5b3945b3-5b87-4600-c1eb-aa225de5e73a",
        "colab": {
          "base_uri": "https://localhost:8080/",
          "height": 299
        }
      },
      "source": [
        "plt.plot([1, 2, 3, 4], [10, 20, 30, 40])   # plt.plot([x축 데이터], [y축 데이터])\n",
        "plt.title('Title')   #plot.title('제목')"
      ],
      "execution_count": 0,
      "outputs": [
        {
          "output_type": "execute_result",
          "data": {
            "text/plain": [
              "Text(0.5, 1.0, 'Title')"
            ]
          },
          "metadata": {
            "tags": []
          },
          "execution_count": 13
        },
        {
          "output_type": "display_data",
          "data": {
            "image/png": "[encoded data removed]",
            "text/plain": [
              "<Figure size 432x288 with 1 Axes>"
            ]
          },
          "metadata": {
            "tags": []
          }
        }
      ]
    },
    {
      "cell_type": "markdown",
      "metadata": {
        "id": "hQc9fsP3m3YD",
        "colab_type": "text"
      },
      "source": [
        "&nbsp; *label* & **plt.legend()** : 범례  \n",
        "&nbsp; *color* : 색상  \n",
        "&nbsp; *linestyle(= ls)* : 선 모양   "
      ]
    },
    {
      "cell_type": "code",
      "metadata": {
        "id": "BFycgKaomU6r",
        "colab_type": "code",
        "outputId": "60478fbe-29b5-49db-ceef-9922bfcdf8a3",
        "colab": {
          "base_uri": "https://localhost:8080/",
          "height": 283
        }
      },
      "source": [
        "plt.plot([10, 20, 30, 40], label = \"asc\", color = 'red', linestyle = \"--\")   #증가\n",
        "plt.plot([40, 30, 20, 10], label = \"desc\", color = 'green', linestyle = \":\")   #감소\n",
        "plt.legend(loc = 8)   #label 값이 범례로 나타난다."
      ],
      "execution_count": 0,
      "outputs": [
        {
          "output_type": "execute_result",
          "data": {
            "text/plain": [
              "<matplotlib.legend.Legend at 0x7f6af5a958d0>"
            ]
          },
          "metadata": {
            "tags": []
          },
          "execution_count": 25
        },
        {
          "output_type": "display_data",
          "data": {
            "image/png": "[encoded data removed]",
            "text/plain": [
              "<Figure size 432x288 with 1 Axes>"
            ]
          },
          "metadata": {
            "tags": []
          }
        }
      ]
    },
    {
      "cell_type": "markdown",
      "metadata": {
        "id": "daUQtH3vnOUt",
        "colab_type": "text"
      },
      "source": [
        "legend에서 loc = n의 속성으로 범례의 위치를 조정할 수 있다. n은 0~10을 넣을 수 있다.  \n",
        "  \n",
        "|2|9|1|  \n",
        "|---|---|---|  \n",
        "|6|10|5, 7|  \n",
        "|3|8|4|  "
      ]
    },
    {
      "cell_type": "markdown",
      "metadata": {
        "id": "6hnT8mIn09Qy",
        "colab_type": "text"
      },
      "source": [
        "&nbsp; *marker* : 점표시  \n",
        "- \"--\" 점선\n",
        "- \"s\" 네모\n",
        "- \"^\" 삼각형"
      ]
    },
    {
      "cell_type": "code",
      "metadata": {
        "id": "wXDG8tjGna8Y",
        "colab_type": "code",
        "outputId": "f0f697ee-9c1f-4d7a-8027-059d4480b37d",
        "colab": {
          "base_uri": "https://localhost:8080/",
          "height": 299
        }
      },
      "source": [
        "plt.title(\"marker\")   #제목 설정\n",
        "plt.plot([10, 20, 30, 40], label = \"circle\", marker = \".\")\n",
        "plt.plot([40, 30, 20, 10], \"g^\", label = \"triangle\")   #color와 한번에 지정 가능하다."
      ],
      "execution_count": 0,
      "outputs": [
        {
          "output_type": "execute_result",
          "data": {
            "text/plain": [
              "[<matplotlib.lines.Line2D at 0x7f6af57133c8>]"
            ]
          },
          "metadata": {
            "tags": []
          },
          "execution_count": 37
        },
        {
          "output_type": "display_data",
          "data": {
            "image/png": "[encoded data removed]",
            "text/plain": [
              "<Figure size 432x288 with 1 Axes>"
            ]
          },
          "metadata": {
            "tags": []
          }
        }
      ]
    },
    {
      "cell_type": "code",
      "metadata": {
        "id": "pYw37wNwFz2Y",
        "colab_type": "code",
        "outputId": "b196cd2b-3e86-4f2e-cb37-e2570afc9019",
        "colab": {
          "base_uri": "https://localhost:8080/",
          "height": 319
        }
      },
      "source": [
        "import numpy as np\n",
        "t = np.arange(0., 5., 0.2)\n",
        "\n",
        "# red dashes, blue squares and green triangles\n",
        "plt.plot(t, t, 'r--', t, t**2, 'bs', t, t**3, 'g^')   # \"--\" 점선, \"s\" 네모, \"^\" 삼각형"
      ],
      "execution_count": 0,
      "outputs": [
        {
          "output_type": "execute_result",
          "data": {
            "text/plain": [
              "[<matplotlib.lines.Line2D at 0x7f6af56e8b00>,\n",
              " <matplotlib.lines.Line2D at 0x7f6af56e8ef0>,\n",
              " <matplotlib.lines.Line2D at 0x7f6af56e8278>]"
            ]
          },
          "metadata": {
            "tags": []
          },
          "execution_count": 55
        },
        {
          "output_type": "display_data",
          "data": {
            "image/png": "[encoded data removed]",
            "text/plain": [
              "<Figure size 432x288 with 1 Axes>"
            ]
          },
          "metadata": {
            "tags": []
          }
        }
      ]
    },
    {
      "cell_type": "markdown",
      "metadata": {
        "id": "Z9ChVXlJ6-nU",
        "colab_type": "text"
      },
      "source": [
        "## others  \n",
        "  \n",
        "### [**plt.hist()**](https://matplotlib.org/api/_as_gen/matplotlib.pyplot.hist.html?highlight=hist#matplotlib.pyplot.hist) : 히스토그램"
      ]
    },
    {
      "cell_type": "code",
      "metadata": {
        "id": "C6DR4dOB7Fx1",
        "colab_type": "code",
        "outputId": "85e59712-f6b0-42fb-9234-c096f6fb838f",
        "colab": {
          "base_uri": "https://localhost:8080/",
          "height": 319
        }
      },
      "source": [
        "plt.hist([1, 2, 2, 3, 4, 5, 5, 6, 7])   #히스토그램"
      ],
      "execution_count": 0,
      "outputs": [
        {
          "output_type": "execute_result",
          "data": {
            "text/plain": [
              "(array([1., 2., 0., 1., 0., 1., 2., 0., 1., 1.]),\n",
              " array([1. , 1.6, 2.2, 2.8, 3.4, 4. , 4.6, 5.2, 5.8, 6.4, 7. ]),\n",
              " <a list of 10 Patch objects>)"
            ]
          },
          "metadata": {
            "tags": []
          },
          "execution_count": 6
        },
        {
          "output_type": "display_data",
          "data": {
            "image/png": "[encoded data removed]",
            "text/plain": [
              "<Figure size 432x288 with 1 Axes>"
            ]
          },
          "metadata": {
            "tags": []
          }
        }
      ]
    },
    {
      "cell_type": "markdown",
      "metadata": {
        "id": "uC6cKO03hXoO",
        "colab_type": "text"
      },
      "source": [
        "### [**plt.scatter(x, y)**](https://matplotlib.org/api/_as_gen/matplotlib.pyplot.scatter.html?highlight=scatter#matplotlib.pyplot.scatter) : 산점도, 버블차트  \n",
        "&nbsp; *s* : 크기(size)  \n",
        "&nbsp; *c* : 표현하고 싶은 색상(color)의 수, 색 지정  \n",
        "&nbsp; *marker* : 찍히는 점의 모양  \n",
        "&nbsp; *cmap* : colormaps을 이용한 색 지정   \n",
        "&nbsp; *alpha* : 투명도 0(투명)~1(불투명)   \n",
        "&nbsp; ***plt.colorbar()*** : colorbar 추가 "
      ]
    },
    {
      "cell_type": "code",
      "metadata": {
        "id": "a4uswjk2jpnO",
        "colab_type": "code",
        "colab": {}
      },
      "source": [
        "import random\n",
        "x = []\n",
        "y = []\n",
        "size = []\n",
        "for i in range(100):\n",
        "  x.append(random.randint(50, 100))\n",
        "  y.append(random.randint(50, 100))\n",
        "  size.append(random.randint(10, 100))   #scatter를 표현하기 위한 임의의 x, y, size 생성"
      ],
      "execution_count": 0,
      "outputs": []
    },
    {
      "cell_type": "code",
      "metadata": {
        "id": "7A--r5nGhT69",
        "colab_type": "code",
        "outputId": "3ccbe1be-2b36-483b-e4c0-dfb8bd01f849",
        "colab": {
          "base_uri": "https://localhost:8080/",
          "height": 287
        }
      },
      "source": [
        "plt.scatter(x, y, s = size, c = size, cmap = 'jet', alpha = 2)\n",
        "plt.colorbar()   #colorbar 추가"
      ],
      "execution_count": 0,
      "outputs": [
        {
          "output_type": "execute_result",
          "data": {
            "text/plain": [
              "<matplotlib.colorbar.Colorbar at 0x7f3222b755f8>"
            ]
          },
          "metadata": {
            "tags": []
          },
          "execution_count": 28
        },
        {
          "output_type": "display_data",
          "data": {
            "image/png": "[encoded data removed]",
            "text/plain": [
              "<Figure size 432x288 with 2 Axes>"
            ]
          },
          "metadata": {
            "tags": []
          }
        }
      ]
    },
    {
      "cell_type": "markdown",
      "metadata": {
        "id": "nKf6RMNk73Sa",
        "colab_type": "text"
      },
      "source": [
        "### [**plt.boxplot()**](https://matplotlib.org/api/_as_gen/matplotlib.pyplot.boxplot.html?highlight=boxplot#matplotlib.pyplot.boxplot) : 상자그림  \n",
        "&nbsp; showfliers = False : 아웃라이어 값 생략"
      ]
    },
    {
      "cell_type": "code",
      "metadata": {
        "id": "H01eZ7Vl7rVA",
        "colab_type": "code",
        "outputId": "8af0b1c3-1104-4cc2-c93d-c30440b1f6fc",
        "colab": {
          "base_uri": "https://localhost:8080/",
          "height": 409
        }
      },
      "source": [
        "plt.boxplot([5, 6, 3, 1, 5, 2])   #상자그림"
      ],
      "execution_count": 0,
      "outputs": [
        {
          "output_type": "execute_result",
          "data": {
            "text/plain": [
              "{'boxes': [<matplotlib.lines.Line2D at 0x7f6af5524860>],\n",
              " 'caps': [<matplotlib.lines.Line2D at 0x7f6af5531240>,\n",
              "  <matplotlib.lines.Line2D at 0x7f6af5531588>],\n",
              " 'fliers': [<matplotlib.lines.Line2D at 0x7f6af5531c18>],\n",
              " 'means': [],\n",
              " 'medians': [<matplotlib.lines.Line2D at 0x7f6af55318d0>],\n",
              " 'whiskers': [<matplotlib.lines.Line2D at 0x7f6af5524b70>,\n",
              "  <matplotlib.lines.Line2D at 0x7f6af5524eb8>]}"
            ]
          },
          "metadata": {
            "tags": []
          },
          "execution_count": 45
        },
        {
          "output_type": "display_data",
          "data": {
            "image/png": "[encoded data removed]",
            "text/plain": [
              "<Figure size 432x288 with 1 Axes>"
            ]
          },
          "metadata": {
            "tags": []
          }
        }
      ]
    },
    {
      "cell_type": "code",
      "metadata": {
        "id": "f1swYC4PPbsX",
        "colab_type": "code",
        "colab": {}
      },
      "source": [
        "plt.boxplot([5, 6, 3, 1, 5, 2], vert = False)   #상자그림, 수평"
      ],
      "execution_count": 0,
      "outputs": []
    },
    {
      "cell_type": "markdown",
      "metadata": {
        "id": "vPjG0w3i-exW",
        "colab_type": "text"
      },
      "source": [
        "### [**plt.bar()**](https://matplotlib.org/api/_as_gen/matplotlib.pyplot.bar.html?highlight=bar#matplotlib.pyplot.bar) : 막대그래프"
      ]
    },
    {
      "cell_type": "code",
      "metadata": {
        "id": "5hHAdaP9-mWc",
        "colab_type": "code",
        "outputId": "6b41c4c9-8e94-4ced-c45e-069fb53df613",
        "colab": {
          "base_uri": "https://localhost:8080/",
          "height": 283
        }
      },
      "source": [
        "plt.bar([1, 2, 3, 4], [2, 5, 1, 4])"
      ],
      "execution_count": 0,
      "outputs": [
        {
          "output_type": "execute_result",
          "data": {
            "text/plain": [
              "<BarContainer object of 4 artists>"
            ]
          },
          "metadata": {
            "tags": []
          },
          "execution_count": 44
        },
        {
          "output_type": "display_data",
          "data": {
            "image/png": "[encoded data removed]",
            "text/plain": [
              "<Figure size 432x288 with 1 Axes>"
            ]
          },
          "metadata": {
            "tags": []
          }
        }
      ]
    },
    {
      "cell_type": "markdown",
      "metadata": {
        "id": "u69Ey0t-_7_L",
        "colab_type": "text"
      },
      "source": [
        "### [**plt.barh()**](https://matplotlib.org/api/_as_gen/matplotlib.pyplot.barh.html?highlight=pyplot%20barh#matplotlib.pyplot.barh) : 수평 막대그래프"
      ]
    },
    {
      "cell_type": "code",
      "metadata": {
        "id": "BVbhDnliAFhW",
        "colab_type": "code",
        "outputId": "dbe6344a-d77e-414a-fd8c-2ebee3b38fa8",
        "colab": {
          "base_uri": "https://localhost:8080/",
          "height": 283
        }
      },
      "source": [
        "plt.barh([1, 2, 3, 4], [2, 5, 1, 4])"
      ],
      "execution_count": 0,
      "outputs": [
        {
          "output_type": "execute_result",
          "data": {
            "text/plain": [
              "<BarContainer object of 4 artists>"
            ]
          },
          "metadata": {
            "tags": []
          },
          "execution_count": 50
        },
        {
          "output_type": "display_data",
          "data": {
            "image/png": "[encoded data removed]",
            "text/plain": [
              "<Figure size 432x288 with 1 Axes>"
            ]
          },
          "metadata": {
            "tags": []
          }
        }
      ]
    },
    {
      "cell_type": "markdown",
      "metadata": {
        "id": "TNsoAn46CChG",
        "colab_type": "text"
      },
      "source": [
        "### [**plt.pie()**](https://matplotlib.org/api/_as_gen/matplotlib.pyplot.pie.html?highlight=pie#matplotlib.pyplot.pie) : 파이그래프  \n",
        "&nbsp; *labels* : 레이블 추가  \n",
        "&nbsp; *autopct* : 비율 표시  '%.1f%%' : 소수점 아래 둘째 자리에서 반올림\n",
        "&nbsp; *startangle* : 시작 각도 정하기"
      ]
    },
    {
      "cell_type": "code",
      "metadata": {
        "id": "BvRpodlQCHm1",
        "colab_type": "code",
        "outputId": "8035ecc9-d134-4335-8b8c-09a7ddbb884a",
        "colab": {
          "base_uri": "https://localhost:8080/",
          "height": 356
        }
      },
      "source": [
        "plt.pie([10, 20], labels = ['A', 'B'], autopct = \"%.1f%%\")"
      ],
      "execution_count": 0,
      "outputs": [
        {
          "output_type": "execute_result",
          "data": {
            "text/plain": [
              "([<matplotlib.patches.Wedge at 0x7f6af529a748>,\n",
              "  <matplotlib.patches.Wedge at 0x7f6af529ae10>],\n",
              " [Text(0.5499999702695115, 0.9526279613277875, 'A'),\n",
              "  Text(-0.5499998810780428, -0.9526280128224968, 'B')],\n",
              " [Text(0.2999999837833699, 0.5196152516333385, '33.3%'),\n",
              "  Text(-0.29999993513347784, -0.5196152797213618, '66.7%')])"
            ]
          },
          "metadata": {
            "tags": []
          },
          "execution_count": 54
        },
        {
          "output_type": "display_data",
          "data": {
            "image/png": "[encoded data removed]",
            "text/plain": [
              "<Figure size 432x288 with 1 Axes>"
            ]
          },
          "metadata": {
            "tags": []
          }
        }
      ]
    },
    {
      "cell_type": "code",
      "metadata": {
        "id": "NbkDdbwag3rJ",
        "colab_type": "code",
        "outputId": "cf6d4dbc-5e1f-4c00-a579-03d1506edfcf",
        "colab": {
          "base_uri": "https://localhost:8080/",
          "height": 356
        }
      },
      "source": [
        "plt.pie([10, 20], labels = ['A', 'B'], autopct = \"%.1f%%\", startangle = 90)   #startangle을 정했을 때"
      ],
      "execution_count": 0,
      "outputs": [
        {
          "output_type": "execute_result",
          "data": {
            "text/plain": [
              "([<matplotlib.patches.Wedge at 0x7f3225dae2b0>,\n",
              "  <matplotlib.patches.Wedge at 0x7f3225dae9b0>],\n",
              " [Text(-0.9526279613277876, 0.5499999702695114, 'A'),\n",
              "  Text(0.9526280128224967, -0.5499998810780429, 'B')],\n",
              " [Text(-0.5196152516333387, 0.29999998378336984, '33.3%'),\n",
              "  Text(0.5196152797213618, -0.2999999351334779, '66.7%')])"
            ]
          },
          "metadata": {
            "tags": []
          },
          "execution_count": 7
        },
        {
          "output_type": "display_data",
          "data": {
            "image/png": "[encoded data removed]",
            "text/plain": [
              "<Figure size 432x288 with 1 Axes>"
            ]
          },
          "metadata": {
            "tags": []
          }
        }
      ]
    },
    {
      "cell_type": "markdown",
      "metadata": {
        "id": "PBTTtjJx3O4U",
        "colab_type": "text"
      },
      "source": [
        "## 기타  \n",
        "**plt.fiture()**](https://matplotlib.org/api/_as_gen/matplotlib.pyplot.figure.html?highlight=pyplot%20figure#matplotlib.pyplot.figure) : 그래프 크기 조절하기  "
      ]
    },
    {
      "cell_type": "code",
      "metadata": {
        "id": "CazAMBdX0WjY",
        "colab_type": "code",
        "outputId": "84f7b179-1705-4cdc-e279-8e08b113091c",
        "colab": {
          "base_uri": "https://localhost:8080/",
          "height": 53
        }
      },
      "source": [
        "plt.figure(figsize = (10, 2))"
      ],
      "execution_count": 0,
      "outputs": [
        {
          "output_type": "execute_result",
          "data": {
            "text/plain": [
              "<Figure size 720x144 with 0 Axes>"
            ]
          },
          "metadata": {
            "tags": []
          },
          "execution_count": 75
        },
        {
          "output_type": "display_data",
          "data": {
            "text/plain": [
              "<Figure size 720x144 with 0 Axes>"
            ]
          },
          "metadata": {
            "tags": []
          }
        }
      ]
    },
    {
      "cell_type": "markdown",
      "metadata": {
        "id": "5UXIyqf51b2v",
        "colab_type": "text"
      },
      "source": [
        "**plt.rcParams['figure.figsize'] = [width, height]**"
      ]
    },
    {
      "cell_type": "code",
      "metadata": {
        "id": "oqGQ2t_01akq",
        "colab_type": "code",
        "colab": {}
      },
      "source": [
        "plt.rcParams['figure.figsize'] = [10, 5] # [width, height] (inches)"
      ],
      "execution_count": 0,
      "outputs": []
    },
    {
      "cell_type": "markdown",
      "metadata": {
        "id": "X44EPKWwG9VP",
        "colab_type": "text"
      },
      "source": [
        "[**subplot(nrows, ncols, index)**](https://matplotlib.org/api/_as_gen/matplotlib.pyplot.subplot.html#matplotlib.pyplot.subplot)   \n",
        "그래프 여러개 그리기  "
      ]
    },
    {
      "cell_type": "code",
      "metadata": {
        "id": "pa9jUSk_HNLr",
        "colab_type": "code",
        "outputId": "22157685-2608-4a52-f91c-004712c93534",
        "colab": {
          "base_uri": "https://localhost:8080/",
          "height": 165
        }
      },
      "source": [
        "plt.subplot(221)   # = plt.subplot(2, 2, 1)\n",
        "plt.plot([1, 2, 3], [1, 2, 3])\n",
        "plt.plot([4, 6, 8], [1, 2, 3])\n",
        "plt.plot([3, 6, 7], [2, 3, 4])"
      ],
      "execution_count": 0,
      "outputs": [
        {
          "output_type": "execute_result",
          "data": {
            "text/plain": [
              "[<matplotlib.lines.Line2D at 0x7f6ae9f8eeb8>]"
            ]
          },
          "metadata": {
            "tags": []
          },
          "execution_count": 78
        },
        {
          "output_type": "display_data",
          "data": {
            "image/png": "[encoded data removed]",
            "text/plain": [
              "<Figure size 432x288 with 1 Axes>"
            ]
          },
          "metadata": {
            "tags": []
          }
        }
      ]
    },
    {
      "cell_type": "markdown",
      "metadata": {
        "id": "PtCCKikxm3fw",
        "colab_type": "text"
      },
      "source": [
        "**plt.title('제목')** : 그래프에 제목 추가   \n",
        "**plt.xlabel('x축 이름')** : x축 이름 지정  \n",
        "**plt.ylabel('y축 이름')** : y축 이름 지정   \n",
        "**plt.style.use('ggplot')** : 배경 격자무늬 스타일 지정   \n",
        "**plt.colorbar()** : colorbar 추가  "
      ]
    },
    {
      "cell_type": "code",
      "metadata": {
        "id": "5a9zU1cq-Pro",
        "colab_type": "code",
        "outputId": "a4cda3d6-6753-4ef8-be3e-e702ba64b379",
        "colab": {
          "base_uri": "https://localhost:8080/",
          "height": 317
        }
      },
      "source": [
        "plt.style.use('ggplot')   #배경 격자 무늬 스타일 지정\n",
        "plt.plot([1, 2, 3, 4])\n",
        "plt.title('Title')   #제목\n",
        "plt.xlabel('X')   #x축 제목\n",
        "plt.ylabel('Y')   #y축 제목"
      ],
      "execution_count": 0,
      "outputs": [
        {
          "output_type": "execute_result",
          "data": {
            "text/plain": [
              "Text(0, 0.5, 'Y')"
            ]
          },
          "metadata": {
            "tags": []
          },
          "execution_count": 11
        },
        {
          "output_type": "display_data",
          "data": {
            "image/png": "[encoded data removed]",
            "text/plain": [
              "<Figure size 432x288 with 1 Axes>"
            ]
          },
          "metadata": {
            "tags": []
          }
        }
      ]
    },
    {
      "cell_type": "markdown",
      "metadata": {
        "id": "v_0xTQ11bk6a",
        "colab_type": "text"
      },
      "source": [
        "plt.style.use()  \n",
        "* 'default'  \n",
        "* 'dark_background'    \n",
        "* 'classic'    \n",
        "* 'ggplot'   \n",
        "* 'seaborn'    "
      ]
    },
    {
      "cell_type": "markdown",
      "metadata": {
        "id": "vjP5WYDsfoVX",
        "colab_type": "text"
      },
      "source": [
        "**plt.xticks(rotation=90)** : x축 각도조정"
      ]
    }
  ]
}